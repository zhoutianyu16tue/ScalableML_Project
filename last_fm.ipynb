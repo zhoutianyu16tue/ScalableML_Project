{
 "cells": [
  {
   "cell_type": "code",
   "execution_count": 4,
   "metadata": {
    "collapsed": true
   },
   "outputs": [],
   "source": [
    "import sqlite3"
   ]
  },
  {
   "cell_type": "code",
   "execution_count": 5,
   "metadata": {
    "collapsed": true
   },
   "outputs": [],
   "source": [
    "conn = sqlite3.connect('lastfm_tags.db')"
   ]
  },
  {
   "cell_type": "code",
   "execution_count": 19,
   "metadata": {
    "collapsed": false
   },
   "outputs": [
    {
     "name": "stdout",
     "output_type": "stream",
     "text": [
      "We get all tags and the number of tracks they're applied to\n",
      "after sorting...\n",
      "(95, 'rock', 101071)\n",
      "(5, 'pop', 69159)\n",
      "(96, 'alternative', 55777)\n",
      "(38, 'indie', 48175)\n",
      "(138, 'electronic', 46270)\n",
      "(70, 'female vocalists', 42565)\n",
      "(98, 'favorites', 39921)\n",
      "(238, 'Love', 34901)\n",
      "(86, 'dance', 33618)\n",
      "(322, '00s', 31432)\n",
      "...\n",
      "(total number of unique tags: 522366)\n"
     ]
    }
   ],
   "source": [
    "print(\"We get all tags and the number of tracks they're applied to\")\n",
    "sql = \"SELECT tid_tag.tag, tags.tag, COUNT(tid_tag.tid) FROM tid_tag, tags WHERE tid_tag.tag=tags.ROWID GROUP BY tags.tag\"\n",
    "res = conn.execute(sql)\n",
    "tag_list = res.fetchall()\n",
    "tag_list = sorted(tag_list, key=lambda x: x[2], reverse=True)\n",
    "print('after sorting...')\n",
    "for k in range(10):\n",
    "    print(tag_list[k])\n",
    "print('...')\n",
    "print('(total number of unique tags: %d)' % len(tag_list))"
   ]
  },
  {
   "cell_type": "code",
   "execution_count": 31,
   "metadata": {
    "collapsed": false
   },
   "outputs": [
    {
     "name": "stdout",
     "output_type": "stream",
     "text": [
      "95,5,96,38,138,70,98,238,86,322,648,347,34,269,914,40,324,196,1,158,97,380,481,75,379,230,45,41,764,10,201,730,492,3,916,15,356,39,382,16,150,37,1177,42,6,69,527,147,545,151,58,595,136,92,2,734,148,55,36,733,189,239,544,2182,889,197,365,1125,43,1650,47,460,686,1033,195,2139,891,923,46,500,367,561,203,83,483,611,1832,149,264,464,945,237,462,2218,1719,308,1537,765,649,617\n"
     ]
    }
   ],
   "source": [
    "top_100_tag_list = list(map(lambda tag: str(tag[0]), tag_list[:100]))\n",
    "print(','.join(top_100_tag_list))"
   ]
  },
  {
   "cell_type": "code",
   "execution_count": 39,
   "metadata": {
    "collapsed": false
   },
   "outputs": [
    {
     "name": "stdout",
     "output_type": "stream",
     "text": [
      "We get all tracks with tag(s) in top 100\n"
     ]
    }
   ],
   "source": [
    "print('We get all tracks with tag(s) in top 100')\n",
    "sql = \"SELECT DISTINCT(tids.tid) FROM tid_tag, tids WHERE tid_tag.tid = tids.ROWID AND tid_tag.tag in (%s)\" % (','.join(top_100_tag_list))\n",
    "res = conn.execute(sql)\n",
    "tracks_with_top_100_tag = res.fetchall()\n"
   ]
  },
  {
   "cell_type": "code",
   "execution_count": 40,
   "metadata": {
    "collapsed": false
   },
   "outputs": [
    {
     "name": "stdout",
     "output_type": "stream",
     "text": [
      "('TRCIJFJ128F425C189',)\n",
      "('TRCMOXY12903CDFD0D',)\n",
      "('TRCMZXV128E07943F4',)\n",
      "('TRCDFKU128F930879F',)\n",
      "('TRCQMCQ128F92D328C',)\n",
      "('TRJJKGE12903CAAFB8',)\n",
      "('TRJMVSL128F427EAB0',)\n",
      "('TRJBCIW128F42694CA',)\n",
      "('TRJDDFL128F1459B06',)\n",
      "('TRJDPQC128F92F993E',)\n",
      "...\n",
      "(total number of track IDs: 369047)\n"
     ]
    }
   ],
   "source": [
    "for k in range(10):\n",
    "    print(tracks_with_top_100_tag[k])\n",
    "print('...')\n",
    "print('(total number of track IDs: %d)' % len(tracks_with_top_100_tag))"
   ]
  },
  {
   "cell_type": "code",
   "execution_count": 41,
   "metadata": {
    "collapsed": true
   },
   "outputs": [],
   "source": [
    "tracks_with_top_100_tag = list(map(lambda t: t[0], tracks_with_top_100_tag))"
   ]
  },
  {
   "cell_type": "code",
   "execution_count": 46,
   "metadata": {
    "collapsed": false
   },
   "outputs": [],
   "source": [
    "tracks_with_top_100_tag.sort()"
   ]
  },
  {
   "cell_type": "code",
   "execution_count": 48,
   "metadata": {
    "collapsed": false
   },
   "outputs": [
    {
     "data": {
      "text/plain": [
       "['TRZZZFV128F4259A2B',\n",
       " 'TRZZZHD128F1475047',\n",
       " 'TRZZZHL128F9329CFB',\n",
       " 'TRZZZHM128F42B1DC8',\n",
       " 'TRZZZJX12903CC66C0',\n",
       " 'TRZZZKN128F92F81D6',\n",
       " 'TRZZZMF128F424484C',\n",
       " 'TRZZZMH128EF34A5F7',\n",
       " 'TRZZZMY128F426D7A2',\n",
       " 'TRZZZOW128F4248475',\n",
       " 'TRZZZQM128F424DBA1',\n",
       " 'TRZZZRJ128F42819AF',\n",
       " 'TRZZZUK128F92E3C60',\n",
       " 'TRZZZUM128F424188C',\n",
       " 'TRZZZYG128F92EF836',\n",
       " 'TRZZZYR128F92F0796',\n",
       " 'TRZZZYV128F92E996D',\n",
       " 'TRZZZYX128F92D32C6',\n",
       " 'TRZZZZD128F4236844',\n",
       " 'TRZZZZZ12903D05E3A']"
      ]
     },
     "execution_count": 48,
     "metadata": {},
     "output_type": "execute_result"
    }
   ],
   "source": [
    "tracks_with_top_100_tag[-20:]"
   ]
  },
  {
   "cell_type": "code",
   "execution_count": 53,
   "metadata": {
    "collapsed": false
   },
   "outputs": [],
   "source": [
    "with open('track_id_with_top_100_tag.txt', 'w') as fd:\n",
    "    for track_id in tracks_with_top_100_tag:\n",
    "        fd.writelines(track_id + '\\n')"
   ]
  },
  {
   "cell_type": "code",
   "execution_count": null,
   "metadata": {
    "collapsed": true
   },
   "outputs": [],
   "source": []
  }
 ],
 "metadata": {
  "kernelspec": {
   "display_name": "Python 3",
   "language": "python",
   "name": "python3"
  },
  "language_info": {
   "codemirror_mode": {
    "name": "ipython",
    "version": 3
   },
   "file_extension": ".py",
   "mimetype": "text/x-python",
   "name": "python",
   "nbconvert_exporter": "python",
   "pygments_lexer": "ipython3",
   "version": "3.5.2"
  }
 },
 "nbformat": 4,
 "nbformat_minor": 2
}
